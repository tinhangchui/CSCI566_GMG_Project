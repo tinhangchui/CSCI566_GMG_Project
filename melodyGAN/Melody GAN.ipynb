{
 "cells": [
  {
   "cell_type": "markdown",
   "metadata": {},
   "source": [
    "# Melody GAN\n",
    "Tin's First GAN attempt"
   ]
  },
  {
   "cell_type": "markdown",
   "metadata": {},
   "source": [
    "You can download the dataset from my [google drive](https://drive.google.com/file/d/163ra5xe1WlVFRa6D3P-Ti1dFh2cp0Veg/view?usp=sharing). "
   ]
  },
  {
   "cell_type": "code",
   "execution_count": null,
   "metadata": {},
   "outputs": [],
   "source": [
    "#Skip this if you have already installed the required packages\n",
    "#This jupyter is developed under python3.7.5, numpy 1.17.4, music21 5.7.1, tensorflow 2.0, opencv-python 4.1.1.26 \n",
    "!pip3 install numpy music21 tensorflow opencv-python sklearn matplotlib"
   ]
  },
  {
   "cell_type": "code",
   "execution_count": 2,
   "metadata": {},
   "outputs": [],
   "source": [
    "#Skip this if you have already unzipped the dataset\n",
    "!unzip midi_data.zip"
   ]
  },
  {
   "cell_type": "code",
   "execution_count": 1,
   "metadata": {},
   "outputs": [],
   "source": [
    "from __future__ import absolute_import, division, print_function, unicode_literals\n",
    "import numpy as np\n",
    "from music21 import converter, instrument, note, chord, stream, interval, pitch, midi\n",
    "import sys, os\n",
    "from IPython.display import Image\n",
    "from IPython.core.display import HTML\n",
    "import tensorflow as tf\n",
    "from tensorflow import keras\n",
    "import cv2\n",
    "from sklearn.utils import shuffle\n",
    "import matplotlib.pyplot as plt"
   ]
  },
  {
   "cell_type": "code",
   "execution_count": 3,
   "metadata": {},
   "outputs": [
    {
     "name": "stdout",
     "output_type": "stream",
     "text": [
      "[name: \"/device:CPU:0\"\n",
      "device_type: \"CPU\"\n",
      "memory_limit: 268435456\n",
      "locality {\n",
      "}\n",
      "incarnation: 15233610405324614187\n",
      ", name: \"/device:XLA_CPU:0\"\n",
      "device_type: \"XLA_CPU\"\n",
      "memory_limit: 17179869184\n",
      "locality {\n",
      "}\n",
      "incarnation: 9884357277349522865\n",
      "physical_device_desc: \"device: XLA_CPU device\"\n",
      "]\n"
     ]
    }
   ],
   "source": [
    "#Set the logging level (If you change 'WARNING' to something else, the progress bar interface might be broken.)\n",
    "tf.get_logger().setLevel('WARNING')\n",
    "\n",
    "#For easy reset of notebook state.\n",
    "tf.keras.backend.clear_session()\n",
    "\n",
    "#Checking available CPU/GPU.\n",
    "from tensorflow.python.client import device_lib\n",
    "print(device_lib.list_local_devices())"
   ]
  },
  {
   "cell_type": "markdown",
   "metadata": {},
   "source": [
    "#### Note: Since keyword 'note' and 'stream' is used by music21 API, we will use variable 'n' to refer a note, and 's' to refer a stream below.\n",
    "\n",
    "First, let's define functions to play some pokemon music."
   ]
  },
  {
   "cell_type": "code",
   "execution_count": 4,
   "metadata": {},
   "outputs": [],
   "source": [
    "def play_midiFile(midFile):\n",
    "    \"\"\"\n",
    "    Play the target midi file.\n",
    "    \"\"\"\n",
    "    mid = converter.parse(midFile)\n",
    "    mid.show('midi')\n",
    "    \n",
    "def play_stream(stream):\n",
    "    \"\"\"\n",
    "    Play the target midi stream.\n",
    "    \"\"\"\n",
    "    stream.write('midi', fp='temp.mid')\n",
    "    play_midiFile('temp.mid')\n"
   ]
  },
  {
   "cell_type": "code",
   "execution_count": 5,
   "metadata": {},
   "outputs": [
    {
     "data": {
      "text/html": [
       "\n",
       "                <div id='midiPlayerDiv3778'></div>\n",
       "                <link rel=\"stylesheet\" href=\"//cuthbertLab.github.io/music21j/css/m21.css\"\n",
       "                    type=\"text/css\" />\n",
       "                <script>\n",
       "                require.config({\n",
       "                    paths: {'music21': '//cuthbertLab.github.io/music21j/src/music21'}\n",
       "                });\n",
       "                require(['music21'], function() {\n",
       "                               mp = new music21.miditools.MidiPlayer();\n",
       "                               mp.addPlayer('#midiPlayerDiv3778');\n",
       "                               mp.base64Load('data:audio/midi;base64,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');\n",
       "                        });\n",
       "                </script>"
      ],
      "text/plain": [
       "<IPython.core.display.HTML object>"
      ]
     },
     "metadata": {},
     "output_type": "display_data"
    }
   ],
   "source": [
    "play_midiFile('./Random_melody/pokemon-rgby-trainer-battle.mid')"
   ]
  },
  {
   "cell_type": "markdown",
   "metadata": {},
   "source": [
    "## Music21 Intro\n",
    "We use music21 midi API in this experiment. Once the file is loaded into music21, it produces a stream which consists of midi notes.\n",
    "\n",
    "Each note has a pitch (C,D,E,F,G,A,B, with accidental sharps,flats...) along with the corresponding octave in keyboard."
   ]
  },
  {
   "cell_type": "code",
   "execution_count": 6,
   "metadata": {},
   "outputs": [
    {
     "name": "stdout",
     "output_type": "stream",
     "text": [
      "A5\n",
      "A\n",
      "5\n"
     ]
    }
   ],
   "source": [
    "mid = converter.parse('./Random_melody/pokemon-rgby-trainer-battle.mid')\n",
    "s = instrument.partitionByInstrument(mid)[0]\n",
    "first_note = s.notes[0]\n",
    "print(first_note.pitch)   #The first note is A at 5th octave. You can verify it at the midi player above.\n",
    "print(first_note.pitch.name)   #return the key name of the first note\n",
    "print(first_note.pitch.octave)   #return the key octave of the first note"
   ]
  },
  {
   "cell_type": "code",
   "execution_count": 7,
   "metadata": {},
   "outputs": [
    {
     "name": "stdout",
     "output_type": "stream",
     "text": [
      "B#\n"
     ]
    }
   ],
   "source": [
    "my_note = note.Note('B#', quarterLength=1)   #creating a note\n",
    "print(my_note.pitch.name)"
   ]
  },
  {
   "cell_type": "markdown",
   "metadata": {},
   "source": [
    "Midi's octave ranges from 0 to 10. However, in reality, octaves outside range 3 to 6 are rarely used in melody, so we'll force all note's octave to be in this range(3 to 6)."
   ]
  },
  {
   "cell_type": "markdown",
   "metadata": {},
   "source": [
    "Each note also has a duration, representing how long the note last in the track.<br>\n",
    "0.25 = 16th note<br>\n",
    "0.5 = 8th note<br>\n",
    "1 = quarter note<br>\n",
    "2 = half note<br>\n",
    "4 = whole note<br>\n",
    "![](http://hub.rockyview.ab.ca/pluginfile.php/5627/mod_book/chapter/3630/notes%20and%20rests.PNG)"
   ]
  },
  {
   "cell_type": "code",
   "execution_count": 8,
   "metadata": {},
   "outputs": [
    {
     "name": "stdout",
     "output_type": "stream",
     "text": [
      "<music21.duration.Duration 0.25>\n",
      "0.25\n",
      "16th\n"
     ]
    },
    {
     "data": {
      "text/plain": [
       "{'16th', 'complex', 'eighth', 'half', 'quarter', 'whole'}"
      ]
     },
     "execution_count": 8,
     "metadata": {},
     "output_type": "execute_result"
    }
   ],
   "source": [
    "print(first_note.duration)   #note has a Duration object\n",
    "print(first_note.duration.quarterLength)   #return value of duration\n",
    "print(first_note.duration.type)   #return string representation of duration\n",
    "set([note.duration.type for note in s.notesAndRests])   #see all possible duration of this song"
   ]
  },
  {
   "cell_type": "markdown",
   "metadata": {},
   "source": [
    "Complex duration means a note need multiple tied noteheads to represent. Complex duration's value can vary drastically, so our model we treat them as quarter note.<br>\n",
    "Also, for the same reason, we treat all notes which their duration exceed the 4 as whole note, and all notes which their duration shorter than 0.25 as 16th note."
   ]
  },
  {
   "cell_type": "markdown",
   "metadata": {},
   "source": [
    "## Midi Preprocessing"
   ]
  },
  {
   "cell_type": "markdown",
   "metadata": {},
   "source": [
    "Here we define something we want to do with raw midi files before converting them into values:<br>\n",
    "1. Transform all midi into C major/minor to reduce unnecessary variance in training.\n",
    "2. Transform notes if their duration is greater than whole note or less than 16th note as stated above.\n",
    "3. Transform notes it their octave is not within 3 and 6 as stated above."
   ]
  },
  {
   "cell_type": "code",
   "execution_count": 9,
   "metadata": {},
   "outputs": [],
   "source": [
    "def transform_to_C(inputStream):\n",
    "    i = interval.Interval(inputStream.analyze('key').tonic, pitch.Pitch('C'))\n",
    "    return inputStream.transpose(i)"
   ]
  },
  {
   "cell_type": "code",
   "execution_count": 10,
   "metadata": {},
   "outputs": [
    {
     "data": {
      "text/html": [
       "\n",
       "                <div id='midiPlayerDiv13977'></div>\n",
       "                <link rel=\"stylesheet\" href=\"//cuthbertLab.github.io/music21j/css/m21.css\"\n",
       "                    type=\"text/css\" />\n",
       "                <script>\n",
       "                require.config({\n",
       "                    paths: {'music21': '//cuthbertLab.github.io/music21j/src/music21'}\n",
       "                });\n",
       "                require(['music21'], function() {\n",
       "                               mp = new music21.miditools.MidiPlayer();\n",
       "                               mp.addPlayer('#midiPlayerDiv13977');\n",
       "                               mp.base64Load('data:audio/midi;base64,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');\n",
       "                        });\n",
       "                </script>"
      ],
      "text/plain": [
       "<IPython.core.display.HTML object>"
      ]
     },
     "metadata": {},
     "output_type": "display_data"
    }
   ],
   "source": [
    "def transform_note(inputStream):\n",
    "    \"\"\"\n",
    "    Remove rest notes, and enforce the duration limits.\n",
    "    \"\"\"\n",
    "    s = stream.Stream()\n",
    "    for n in inputStream.flat.notes:\n",
    "        if isinstance(n, chord.Chord):\n",
    "            n = n.notes[0]\n",
    "        note_duration = n.duration.type\n",
    "        if note_duration == 'complex':\n",
    "            note_duration = 'quarter'\n",
    "        elif n.duration.quarterLength < 0.25:\n",
    "            note_duration = '16th'\n",
    "        elif n.duration.quarterLength > 4:\n",
    "            note_duration = 'whole'\n",
    "        \n",
    "        n.pitch.octave = min(max(n.pitch.octave, 3), 6)\n",
    "        note_pitch = n.pitch.nameWithOctave\n",
    "        s.append(note.Note(pitchName=note_pitch, type=note_duration))\n",
    "    return s\n",
    "\n",
    "s = transform_note(transform_to_C(s))\n",
    "play_stream(s)"
   ]
  },
  {
   "cell_type": "markdown",
   "metadata": {},
   "source": [
    "## Video clips Preprocessing\n",
    "\n",
    "We also define function to preprocess video clips by resizing and ormalizing pixels."
   ]
  },
  {
   "cell_type": "code",
   "execution_count": 11,
   "metadata": {},
   "outputs": [],
   "source": [
    "expected_clip_shape = (9, 64, 64, 3)   #any image differ to this shape will be dropped\n",
    "def transform_images(clips):\n",
    "    \"\"\"\n",
    "    Preprocess video clips (collection of images).\n",
    "    \"\"\"\n",
    "    clip_sample = []\n",
    "    for i in range(clips.shape[0]):\n",
    "        images = []\n",
    "        for j in range(clips[i].shape[0]):\n",
    "            resized_img = cv2.resize(clips[i][j], dsize=(expected_clip_shape[1], expected_clip_shape[2]))\n",
    "            images.append(resized_img)\n",
    "        clip_sample.append(images)\n",
    "    return np.array(clip_sample) / 255.0"
   ]
  },
  {
   "cell_type": "markdown",
   "metadata": {},
   "source": [
    "## Converting between midi stream and note representation\n",
    "We now define function to convert all notes into an array of tuple (id, duration), and its reverse function. These functions will be used to convert the data to feed our model, and convert the model's output to proper midi file.\n",
    "\n",
    "#### Pitch:\n",
    "Since we assume all note has octave between 3 to 6. The lowest pitch is 'C3'=48, the highest pitch is 'B6'=95. However, if we simply put pitches with range(48, 95) into our data, then our data will have bias. To normalize our data, we will map the range(48, 95) to range(-1,1).<br><br>\n",
    "The mapping formula is:<br>\n",
    "$$Pitch(x) = \\frac{(1-(-1))}{(95-48)} * {(x - (48 + \\frac{95 - 48}{2}))}$$\n",
    "$$\\rightarrow f(x) = \\frac{2x - 143}{47}$$\n",
    "\n",
    "Its reverse function will map range(-1,1) back to range(48,95).<br>\n",
    "The reverse formula is:<br>\n",
    "$$Pitch^{-1}(x) = \\frac{47x + 143}{2}$$\n",
    "\n",
    "#### Duration:\n",
    "Desipte durations are represented in real numbers like pitches, they actually correspond to 5 classes(16th=0.25, 8th=0.5, quarter=1, half=2, whole=4). To normalize our data, we will map them into range(-1, 1) with the following discrete mapping rules:<br>\n",
    "\n",
    "$$\n",
    "\\begin{equation}\n",
    "  Duration(x) =\n",
    "    \\begin{cases}\n",
    "      -1. & \\text{if x = 0.25 (16th)}\\\\\n",
    "      -0.5 & \\text{if x = 0.5 (8th)}\\\\\n",
    "      0 & \\text{if x = 1 (quarter)}\\\\\n",
    "      0.5 & \\text{if x = 2 (half)}\\\\\n",
    "      1 & \\text{if x = 4 (whole)}\\\\\n",
    "    \\end{cases}       \n",
    "\\end{equation}\n",
    "$$\n",
    "\n",
    "Its reverse function will look at the value and chose its closest duration class. For example, if value is -0.1, then it will be first changed to 0, then mapped back to 1(quarter)."
   ]
  },
  {
   "cell_type": "code",
   "execution_count": 12,
   "metadata": {},
   "outputs": [],
   "source": [
    "PITCH_RANGE = (48, 95)  #in octave 3 to 6, the lowest pitch is 'C3'=48, the highest pitch is 'B6'=95.\n",
    "duration_map = {0.25: -1., 0.5: -0.5, 1.: 0., 2.:0.5, 4.:1}\n",
    "def stream_to_noteArr(s):\n",
    "    \"\"\"\n",
    "    Map midi stream to numpy representation.\n",
    "    \"\"\"\n",
    "    result = []\n",
    "    for n in s:\n",
    "        mapped_pitch = (2 * n.pitch.midi-143)/(47)\n",
    "        try:\n",
    "            mapped_duration = duration_map[n.duration.quarterLength]\n",
    "        except KeyError:\n",
    "            mapped_duration = 1.\n",
    "        result.append([mapped_pitch, mapped_duration])\n",
    "    return np.array(result)"
   ]
  },
  {
   "cell_type": "code",
   "execution_count": 13,
   "metadata": {},
   "outputs": [],
   "source": [
    "inverse_duration_map = {-1.: 0.25, -0.5: 0.5, 0.: 1., 0.5: 2, 1.: 4}\n",
    "inverse_duration_map_keys = [-1., -0.5, 0., 0.5, 1.]\n",
    "def noteArr_to_stream(arr):\n",
    "    \"\"\"\n",
    "    Reverse function of stream_to_noteArr.\n",
    "    \"\"\"\n",
    "    \n",
    "    s = stream.Stream()\n",
    "    for pitch, duration in arr:\n",
    "        mapped_pitch = int((47 * pitch + 143) / 2)\n",
    "        \n",
    "        closest_duration_index = (np.abs(inverse_duration_map_keys - duration)).argmin()\n",
    "        closest_duration = inverse_duration_map_keys[closest_duration_index]\n",
    "        mapped_duration = inverse_duration_map[closest_duration]\n",
    "        \n",
    "        n = note.Note()\n",
    "        n.pitch.midi = mapped_pitch\n",
    "        n.duration.quarterLength = mapped_duration\n",
    "        s.append(n)\n",
    "    return s"
   ]
  },
  {
   "cell_type": "markdown",
   "metadata": {},
   "source": [
    "## Loading Data\n",
    "In this experiment, we have prepared a simple dataset from Final Fantasy, Super Mario Bros, and some other random games.\n",
    "The dataset consists of video clips (9 frames of 200x200 images) and its corresponding midi file.\n",
    "\n",
    "In our training data, each clip will associated with several note sequences picked from the corresponding midi file, so that each clip is paired with music that has correct \"emotion\"."
   ]
  },
  {
   "cell_type": "code",
   "execution_count": 14,
   "metadata": {},
   "outputs": [],
   "source": [
    "#Model Hyperparameters\n",
    "NOTES_PER_SEQ = 20   #how many notes in a sequence\n",
    "\n",
    "#Dataset Hyperparameters\n",
    "all_dir = ['./Final_Fantasy', './Random_melody', './Super_Mario_Bros']   #what data needs to be included in training. Feel free to add more folder if you have more data.\n",
    "all_dir = ['./Final_fantasy'] #For debug only, I use one folder because they take too many memory of my poor macbook air\n",
    "SEQ_PER_CLIPS = 4    #how many training sequence for a video clip\n",
    "NOTE_STEP = 1    #step size of the slide for note sequence"
   ]
  },
  {
   "cell_type": "code",
   "execution_count": 15,
   "metadata": {},
   "outputs": [],
   "source": [
    "def load_data(all_dir):\n",
    "    img_data = []\n",
    "    midi_data = []\n",
    "    for folder in all_dir:\n",
    "        for file in os.listdir(folder):\n",
    "            if file.endswith(\".mid\"):\n",
    "                name = file.split('.')[0]\n",
    "                \n",
    "                #Load midi file\n",
    "                try:\n",
    "                    mid = converter.parse(folder+'/'+file)\n",
    "                    s = instrument.partitionByInstrument(mid)[0]   #extract melody\n",
    "                except:\n",
    "                    print(f\"something is wrong when opening {folder+'/'+file}\")\n",
    "                    continue\n",
    "                s = transform_note(transform_to_C(s))   #preprocessing midi\n",
    "                s = stream_to_noteArr(s)   #to value representation \n",
    "                \n",
    "                #Load corresponding npy file\n",
    "                try:\n",
    "                    clips = np.load(folder+'/'+name+'.npy')\n",
    "                except:\n",
    "                    print(f\"something is wrong when opening {folder+'/'+name+'.npy'}\")\n",
    "                    continue\n",
    "                    \n",
    "                clips = transform_images(clips)   \n",
    "                \n",
    "                for clip in clips:\n",
    "                    for i in range(0, len(s) - NOTES_PER_SEQ, NOTE_STEP):\n",
    "                        if clip.shape == expected_clip_shape:\n",
    "                            img_data.append(clip)\n",
    "                            midi_data.append(s[i:i+NOTES_PER_SEQ])\n",
    "                            \n",
    "    return np.array(img_data), np.array(midi_data)"
   ]
  },
  {
   "cell_type": "code",
   "execution_count": 16,
   "metadata": {},
   "outputs": [
    {
     "data": {
      "text/plain": [
       "(14618, 9, 64, 64, 3)"
      ]
     },
     "execution_count": 16,
     "metadata": {},
     "output_type": "execute_result"
    }
   ],
   "source": [
    "img_data, midi_data = load_data(all_dir)\n",
    "img_data.shape"
   ]
  },
  {
   "cell_type": "markdown",
   "metadata": {},
   "source": [
    "## Construct model"
   ]
  },
  {
   "cell_type": "code",
   "execution_count": 17,
   "metadata": {},
   "outputs": [],
   "source": [
    "class Encoder(keras.Model):\n",
    "    def __init__(self, output_dim):\n",
    "        \"\"\"\n",
    "        output_dim: the dimension of the encoded vector\n",
    "        \"\"\"\n",
    "        super(Encoder, self).__init__()        \n",
    "        self.conv1 = tf.keras.layers.Conv3D(8, [3, 4, 4], padding='same', name='en_conv1')\n",
    "        self.pool1 = keras.layers.MaxPool3D(pool_size=(1, 2, 2), strides=(1, 2, 2), padding='valid', name='en_pool1')\n",
    "        self.conv2 = tf.keras.layers.Conv3D(16, [3, 5, 5], padding='same', name='en_conv2')\n",
    "        self.bn2 = keras.layers.BatchNormalization(name='en_bn2')\n",
    "        self.conv3 = tf.keras.layers.Conv3D(16, [3, 3, 3], padding='same', name='en_conv3')\n",
    "        self.bn3 = keras.layers.BatchNormalization(name='en_bn3')\n",
    "        self.flatten4 = keras.layers.Flatten(name='en_flatten')\n",
    "        self.dense4 = keras.layers.Dense(output_dim, name='en_dense4')\n",
    "        \n",
    "    def call(self, inputs):\n",
    "        x = tf.nn.leaky_relu(self.pool1(self.conv1(inputs)))\n",
    "        x = tf.nn.leaky_relu(self.bn2(self.conv2(x)))\n",
    "        x = tf.nn.leaky_relu(self.bn3(self.conv3(x)))\n",
    "        x = self.dense4(self.flatten4(x))\n",
    "        return x\n",
    "        \n",
    "        \n",
    "class Generator(keras.Model):\n",
    "    def __init__(self, output_dim):\n",
    "        \"\"\"\n",
    "        input_dim: the dimension of the encoded vector\n",
    "        outpu_dim: the amount of notes(in pair of pitch and duration) to be generated\n",
    "        \"\"\"\n",
    "        super(Generator, self).__init__()\n",
    "        self.dense1 = keras.layers.Dense(output_dim*2, name='gen_dense1')\n",
    "        self.dense2 = keras.layers.Dense(output_dim*4, name='gen_dense2')\n",
    "        self.bn2 = keras.layers.BatchNormalization(name='en_bn2')\n",
    "        self.dense3 = keras.layers.Dense(output_dim*2, name='gen_dense3')\n",
    "        self.reshape = keras.layers.Reshape((output_dim, 2))\n",
    "        \n",
    "    def call(self, encode_input):\n",
    "        x = tf.nn.leaky_relu(self.dense1(encode_input))\n",
    "        x = tf.nn.leaky_relu(self.bn2(self.dense2(x)))\n",
    "        x = self.reshape(self.dense3(x))\n",
    "        return x\n",
    "        \n",
    "    \n",
    "class Discriminator(keras.Model):\n",
    "\n",
    "    def __init__(self, dim_encoded_img, dim_encoded_midi):\n",
    "        \"\"\"\n",
    "        dim_lstm_output: the dimension of lstm layer of midi data.\n",
    "        \"\"\"\n",
    "        super(Discriminator, self).__init__()\n",
    "        self.lstm1 = tf.keras.layers.LSTM(dim_encoded_midi, name='dis_lstm1')\n",
    "        \n",
    "        total = dim_encoded_img + dim_encoded_midi\n",
    "        self.dense3 = keras.layers.Dense(total, name='dis_dense3')\n",
    "        self.bn3 = keras.layers.BatchNormalization(name='en_bn3')\n",
    "        \n",
    "        self.dense4 = keras.layers.Dense(total*2, name='dis_dense4')\n",
    "        self.bn4 = keras.layers.BatchNormalization(name='en_bn4')\n",
    "        \n",
    "        self.dense5 = keras.layers.Dense(1, name='dis_dense5')\n",
    "        \n",
    "    def call(self, inputs):\n",
    "        encoded_img, midi_input = inputs\n",
    "        encoded_midi = self.lstm1(midi_input)\n",
    "        concat = tf.keras.layers.concatenate([encoded_img, encoded_midi])\n",
    "        \n",
    "        x = tf.nn.leaky_relu(self.bn3(self.dense3(concat)))\n",
    "        x = tf.nn.leaky_relu(self.bn4(self.dense4(x)))\n",
    "        x = keras.activations.sigmoid(self.dense5(x))\n",
    "        return x"
   ]
  },
  {
   "cell_type": "code",
   "execution_count": 18,
   "metadata": {},
   "outputs": [],
   "source": [
    "class Melody_GAN:\n",
    "    def __init__(self):\n",
    "        #hyperparameters\n",
    "        self.notes_per_seq = NOTES_PER_SEQ\n",
    "        self.encoder_output_dim = 16\n",
    "        self.num_epoch_Encoder = 60\n",
    "        self.num_epoch_GAN = 40\n",
    "        self.batch_size = 10\n",
    "        self.learning_rate = 0.0001\n",
    "        self.num_fake_music = 30  #number of fake music generated in each epoch. \n",
    "        self.save_per_epoch = 100 #number of epoches to save the model once\n",
    "        self.record_per_epoch = 20 #number of epoches to save the loss for plotting the result\n",
    "        \n",
    "        #main component models\n",
    "        self.encoder = Encoder(self.encoder_output_dim)\n",
    "        self.generator = Generator(self.notes_per_seq)\n",
    "        self.discriminator = Discriminator(self.encoder_output_dim, self.encoder_output_dim)\n",
    "        \n",
    "        #optimizers\n",
    "        self.encoded_optimizer = keras.optimizers.Adam(learning_rate=self.learning_rate)\n",
    "        self.generator_optimizer = keras.optimizers.Adam(learning_rate=self.learning_rate)\n",
    "        self.discriminator_optimizer = keras.optimizers.Adam(learning_rate=self.learning_rate)\n",
    "        \n",
    "        #Run predict() once to let the model knows the input shape. The model cannot be saved to file without this step.\n",
    "        a = self.encoder.predict(np.zeros((1, expected_clip_shape[0], expected_clip_shape[1], expected_clip_shape[2], expected_clip_shape[3])))   \n",
    "        b = self.generator.predict(np.zeros((1, self.encoder_output_dim)))\n",
    "        c = self.discriminator.predict([a,b])\n",
    "    \n",
    "        #for saving checkpoint\n",
    "        self.checkpoint = tf.train.Checkpoint(encoder=self.encoder,\n",
    "                                              generator=self.generator,\n",
    "                                              discriminator=self.discriminator,\n",
    "                                              encoded_optimizer=self.encoded_optimizer,\n",
    "                                              generator_optimizer=self.generator_optimizer,\n",
    "                                              discriminator_optimizer=self.discriminator_optimizer)\n",
    "        self.checkpoint_manager = tf.train.CheckpointManager(self.checkpoint, './tmp/model', max_to_keep=5)\n",
    "        \n",
    "        #for plotting\n",
    "        self.train_record_Encoder = []\n",
    "        self.train_record_GAN_gen = []\n",
    "        self.train_record_GAN_dis = []\n",
    "\n",
    "    def _loss(self, logits, labels):\n",
    "        cross_entropy = tf.keras.losses.BinaryCrossentropy(name='cross_entropy')\n",
    "        return cross_entropy(labels, logits)\n",
    "    \n",
    "    def train(self, img_data, midi_data):\n",
    "        \"\"\"\n",
    "        Train the computation graph. There are two stages:\n",
    "        The first stage trains the encoder and discriminator until it is good enough.\n",
    "        The second stage trains the generator and discriminator like normal GAN.\n",
    "        \"\"\"\n",
    "        self.img_data, self.midi_data = shuffle(img_data, midi_data)\n",
    "        print('Complete shuffling data.')\n",
    "        self.img_iter = iter(tf.data.Dataset.from_tensor_slices(self.img_data).batch(self.batch_size).repeat())\n",
    "        self.midi_iter = iter(tf.data.Dataset.from_tensor_slices(self.midi_data).batch(self.batch_size).repeat())\n",
    "        \n",
    "        self._train_Encoder(img_data, midi_data)\n",
    "        self._train_GAN(img_data, midi_data)\n",
    "    \n",
    "    def _train_Encoder(self, img_iter, midi_iter):\n",
    "        \"\"\"\n",
    "        Train the encoder and discriminator.\n",
    "        \"\"\"\n",
    "        for epoch in range(self.num_epoch_Encoder):\n",
    "            #Create Progressbar\n",
    "            progbar = keras.utils.Progbar(self.num_epoch_Encoder)\n",
    "            \n",
    "            #Train Discriminator and Encoder\n",
    "            with tf.GradientTape(persistent=True) as tape:\n",
    "                img_batch, midi_batch = next(self.img_iter), next(self.midi_iter)\n",
    "                fake_music = self.generator(np.random.normal(0, 1, (self.batch_size, self.encoder_output_dim)))   #generate from random number is enough, since we are not concern about training generator.\n",
    "\n",
    "                encoded_img = self.encoder(img_batch)\n",
    "                real_logits = self.discriminator([encoded_img, midi_batch])\n",
    "                fake_logits = self.discriminator([encoded_img, fake_music])\n",
    "\n",
    "                real_loss = self._loss(real_logits, np.ones(self.batch_size))\n",
    "                fake_loss = self._loss(fake_logits, np.zeros(self.batch_size))\n",
    "                loss = real_loss + fake_loss\n",
    "                \n",
    "            d_grads = tape.gradient(loss, self.discriminator.trainable_variables)\n",
    "            self.discriminator_optimizer.apply_gradients(zip(d_grads, self.discriminator.trainable_variables))\n",
    "            \n",
    "            en_grads = tape.gradient(loss, self.encoder.trainable_variables)\n",
    "            self.encoded_optimizer.apply_gradients(zip(en_grads, self.encoder.trainable_variables))         \n",
    "            del tape\n",
    "            \n",
    "            #Show Progress\n",
    "            progbar.update(epoch, values=[('loss', loss)])\n",
    "            if epoch % self.record_per_epoch == 0:   #save traing loss every 20 epoches\n",
    "                self.train_record_Encoder.append(loss)\n",
    "            if epoch % self.save_per_epoch == 0:  #save model every 100 epoches\n",
    "                self.save_model()\n",
    "                \n",
    "        print('\\ntrain_Encoder complete!')\n",
    "        \n",
    "    def _train_GAN(self, img_iter, midi_iter):\n",
    "        \"\"\"\n",
    "        Train the generator and discriminator.\n",
    "        \"\"\"\n",
    "        dis_loss, gen_loss = 0, 0\n",
    "        #Create Progressbar\n",
    "        progbar = keras.utils.Progbar(self.num_epoch_GAN)  \n",
    "        \n",
    "        for epoch in range(self.num_epoch_GAN):\n",
    "            #Discriminator's turn\n",
    "            with tf.GradientTape() as tape:\n",
    "                img_batch, midi_batch = next(self.img_iter), next(self.midi_iter)\n",
    "                fake_music = self.generator(np.random.normal(0, 1, (self.batch_size, self.encoder_output_dim)))   #generate from random picture\n",
    "                \n",
    "                encoded_img = self.encoder(img_batch)\n",
    "                real_logits = self.discriminator([encoded_img, midi_batch])\n",
    "                fake_logits = self.discriminator([encoded_img, fake_music])\n",
    "                \n",
    "                real_loss = self._loss(real_logits, np.ones(self.batch_size))\n",
    "                fake_loss = self._loss(fake_logits, np.zeros(self.batch_size))\n",
    "                dis_loss = real_loss + fake_loss\n",
    "                \n",
    "            d_grads = tape.gradient(dis_loss, self.discriminator.trainable_variables)\n",
    "            self.discriminator_optimizer.apply_gradients(zip(d_grads, self.discriminator.trainable_variables))      \n",
    "            del tape\n",
    "            \n",
    "            #Generator's turn\n",
    "            with tf.GradientTape() as tape:\n",
    "                rand_img = img_data[np.random.choice(self.img_data.shape[0], self.batch_size, replace=False)]\n",
    "                noisy_rand_img = rand_img + np.random.normal(0, 0.1, rand_img.shape)\n",
    "                \n",
    "                encoded_img = self.encoder(noisy_rand_img)\n",
    "                fake_music = self.generator(encoded_img)\n",
    "                fake_logits = self.discriminator([encoded_img, fake_music])\n",
    "                \n",
    "                gen_loss = self._loss(fake_logits, np.zeros(self.batch_size))\n",
    "                \n",
    "            g_grads = tape.gradient(gen_loss, self.generator.trainable_variables)\n",
    "            self.generator_optimizer.apply_gradients(zip(g_grads, self.generator.trainable_variables))\n",
    "            del tape\n",
    "            \n",
    "            #Show Progress\n",
    "            progbar.update(epoch, values=[('dis_loss', dis_loss), ('gen_loss', gen_loss)])\n",
    "            if epoch % self.record_per_epoch == 0:\n",
    "                self.train_record_GAN_gen.append(gen_loss)\n",
    "                self.train_record_GAN_dis.append(dis_loss)\n",
    "            if epoch % self.save_per_epoch == 0:\n",
    "                self.save_model()\n",
    "                \n",
    "        print('\\ntrain_GAN completed!')\n",
    "        \n",
    "    def generate_midi(self, img_data):\n",
    "        \"\"\"\n",
    "        Given a clip, generate midi music\n",
    "        \"\"\"\n",
    "        encoded_img = self.encoder.call(img_data)\n",
    "        return self.generator.call(encoded_img)\n",
    "    \n",
    "    def save_model(self, disable_log=True):\n",
    "        if not disable_log:\n",
    "            print('Saving models...')      \n",
    "        self.checkpoint_manager.save()      \n",
    "        if not disable_log:\n",
    "            print('Save completed.')\n",
    "            \n",
    "    def load_model(self, disable_log=True):\n",
    "        if not disable_log:\n",
    "            print('Loading models...')\n",
    "        self.checkpoint.restore(self.checkpoint_manager.latest_checkpoint) \n",
    "        if not disable_log:\n",
    "            print('Load completed.')\n",
    "        \n",
    "    def plot_training(self):\n",
    "        plt.plot(range(0, self.num_epoch_Encoder, self.record_per_epoch), self.train_record_Encoder)\n",
    "        plt.xlabel('epoch')\n",
    "        plt.ylabel('loss')\n",
    "        plt.suptitle('Training loss (First Stage)')\n",
    "        plt.show()\n",
    "                     \n",
    "        gen_line, = plt.plot(range(0, self.num_epoch_GAN, self.record_per_epoch),\n",
    "                 self.train_record_GAN_gen,\n",
    "                 color='red')\n",
    "                    \n",
    "        dis_line, = plt.plot(range(0, self.num_epoch_GAN, self.record_per_epoch),\n",
    "                  self.train_record_GAN_dis,\n",
    "                  color='blue')\n",
    "        plt.suptitle('Training loss (Second Stage)')\n",
    "        plt.xlabel('epoch')\n",
    "        plt.ylabel('loss')          \n",
    "        plt.legend((dis_line, gen_line), ('discriminator', 'generator'))\n",
    "        plt.show()\n",
    "            "
   ]
  },
  {
   "cell_type": "markdown",
   "metadata": {},
   "source": [
    "# Training the model"
   ]
  },
  {
   "cell_type": "code",
   "execution_count": 19,
   "metadata": {},
   "outputs": [
    {
     "name": "stdout",
     "output_type": "stream",
     "text": [
      "Complete shuffling data.\n",
      "WARNING:tensorflow:Layer generator is casting an input tensor from dtype float64 to the layer's dtype of float32, which is new behavior in TensorFlow 2.  The layer has dtype float32 because it's dtype defaults to floatx.\n",
      "\n",
      "If you intended to run this layer in float32, you can safely ignore this warning. If in doubt, this warning is likely only an issue if you are porting a TensorFlow 1.X model to TensorFlow 2.\n",
      "\n",
      "To change all layers to have dtype float64 by default, call `tf.keras.backend.set_floatx('float64')`. To change just this layer, pass dtype='float64' to the layer constructor. If you are the author of this layer, you can disable autocasting by passing autocast=False to the base Layer constructor.\n",
      "\n",
      "WARNING:tensorflow:Layer encoder is casting an input tensor from dtype float64 to the layer's dtype of float32, which is new behavior in TensorFlow 2.  The layer has dtype float32 because it's dtype defaults to floatx.\n",
      "\n",
      "If you intended to run this layer in float32, you can safely ignore this warning. If in doubt, this warning is likely only an issue if you are porting a TensorFlow 1.X model to TensorFlow 2.\n",
      "\n",
      "To change all layers to have dtype float64 by default, call `tf.keras.backend.set_floatx('float64')`. To change just this layer, pass dtype='float64' to the layer constructor. If you are the author of this layer, you can disable autocasting by passing autocast=False to the base Layer constructor.\n",
      "\n",
      "WARNING:tensorflow:Layer discriminator is casting an input tensor from dtype float64 to the layer's dtype of float32, which is new behavior in TensorFlow 2.  The layer has dtype float32 because it's dtype defaults to floatx.\n",
      "\n",
      "If you intended to run this layer in float32, you can safely ignore this warning. If in doubt, this warning is likely only an issue if you are porting a TensorFlow 1.X model to TensorFlow 2.\n",
      "\n",
      "To change all layers to have dtype float64 by default, call `tf.keras.backend.set_floatx('float64')`. To change just this layer, pass dtype='float64' to the layer constructor. If you are the author of this layer, you can disable autocasting by passing autocast=False to the base Layer constructor.\n",
      "\n",
      "59/60 [============================>.] - ETA: 0s - loss: 1.33918400\n",
      "train_Encoder complete!\n",
      "39/40 [============================>.] - ETA: 4s - dis_loss: 1.3295 - gen_loss: 0.6838\n",
      "train_GAN completed!\n"
     ]
    }
   ],
   "source": [
    "gan = Melody_GAN()\n",
    "gan.train(img_data, midi_data)   #Try 'gan.train(img_data[:20], midi_data[:20])' if you think it's too slow."
   ]
  },
  {
   "cell_type": "code",
   "execution_count": 20,
   "metadata": {},
   "outputs": [
    {
     "data": {
      "image/png": "[encoded data removed]",
      "text/plain": [
       "<Figure size 432x288 with 1 Axes>"
      ]
     },
     "metadata": {
      "image/png": {
       "height": 290,
       "width": 398
      },
      "needs_background": "light"
     },
     "output_type": "display_data"
    },
    {
     "data": {
      "image/png": "[encoded data removed]",
      "text/plain": [
       "<Figure size 432x288 with 1 Axes>"
      ]
     },
     "metadata": {
      "image/png": {
       "height": 290,
       "width": 385
      },
      "needs_background": "light"
     },
     "output_type": "display_data"
    }
   ],
   "source": [
    "gan.plot_training()"
   ]
  },
  {
   "cell_type": "markdown",
   "metadata": {},
   "source": [
    "# Let's generate some music!"
   ]
  },
  {
   "cell_type": "code",
   "execution_count": 33,
   "metadata": {},
   "outputs": [],
   "source": [
    "#Randomly pick a video clip from img_data and generate music from it\n",
    "index = np.random.randint(img_data.shape[0])\n",
    "generated_music = gan.generate_midi([img_data[index]])"
   ]
  },
  {
   "cell_type": "code",
   "execution_count": 34,
   "metadata": {},
   "outputs": [
    {
     "name": "stdout",
     "output_type": "stream",
     "text": [
      "Some Frames from the video clip:\n"
     ]
    },
    {
     "data": {
      "image/png": "[encoded data removed]",
      "text/plain": [
       "<Figure size 432x288 with 1 Axes>"
      ]
     },
     "metadata": {
      "image/png": {
       "height": 250,
       "width": 251
      },
      "needs_background": "light"
     },
     "output_type": "display_data"
    },
    {
     "data": {
      "image/png": "[encoded data removed]",
      "text/plain": [
       "<Figure size 432x288 with 1 Axes>"
      ]
     },
     "metadata": {
      "image/png": {
       "height": 250,
       "width": 251
      },
      "needs_background": "light"
     },
     "output_type": "display_data"
    },
    {
     "data": {
      "image/png": "[encoded data removed]",
      "text/plain": [
       "<Figure size 432x288 with 1 Axes>"
      ]
     },
     "metadata": {
      "image/png": {
       "height": 250,
       "width": 251
      },
      "needs_background": "light"
     },
     "output_type": "display_data"
    },
    {
     "name": "stdout",
     "output_type": "stream",
     "text": [
      "Real game music:\n"
     ]
    },
    {
     "data": {
      "text/html": [
       "\n",
       "                <div id='midiPlayerDiv37814'></div>\n",
       "                <link rel=\"stylesheet\" href=\"//cuthbertLab.github.io/music21j/css/m21.css\"\n",
       "                    type=\"text/css\" />\n",
       "                <script>\n",
       "                require.config({\n",
       "                    paths: {'music21': '//cuthbertLab.github.io/music21j/src/music21'}\n",
       "                });\n",
       "                require(['music21'], function() {\n",
       "                               mp = new music21.miditools.MidiPlayer();\n",
       "                               mp.addPlayer('#midiPlayerDiv37814');\n",
       "                               mp.base64Load('data:audio/midi;base64,TVRoZAAAAAYAAQABBABNVHJrAAAAwQD/AwAA4ABAAJBJWoQAgEkAAJBLWogAgEsAAJBNWoQAgE0AAJBPWoQAgE8AAJBUWpAAgFQAAJBQWoQAgFAAAJBPWogAgE8AAJBOWoIAgE4AAJBPWoQAgE8AAJBJWogAgEkAAJBLWoQAgEsAAJBPWoQAgE8AAJBNWogAgE0AAJBHWpAAgEcAAJBPWoQAgE8AAJBJWoQAgEkAAJBLWogAgEsAAJBNWoQAgE0AAJBPWoQAgE8AAJBUWpAAgFQAiAD/LwA=');\n",
       "                        });\n",
       "                </script>"
      ],
      "text/plain": [
       "<IPython.core.display.HTML object>"
      ]
     },
     "metadata": {},
     "output_type": "display_data"
    },
    {
     "name": "stdout",
     "output_type": "stream",
     "text": [
      "Generated game music:\n"
     ]
    },
    {
     "data": {
      "text/html": [
       "\n",
       "                <div id='midiPlayerDiv38159'></div>\n",
       "                <link rel=\"stylesheet\" href=\"//cuthbertLab.github.io/music21j/css/m21.css\"\n",
       "                    type=\"text/css\" />\n",
       "                <script>\n",
       "                require.config({\n",
       "                    paths: {'music21': '//cuthbertLab.github.io/music21j/src/music21'}\n",
       "                });\n",
       "                require(['music21'], function() {\n",
       "                               mp = new music21.miditools.MidiPlayer();\n",
       "                               mp.addPlayer('#midiPlayerDiv38159');\n",
       "                               mp.base64Load('data:audio/midi;base64,TVRoZAAAAAYAAQABBABNVHJrAAAAwQD/AwAA4ABAAJBHWogAgEcAAJA2WogAgDYAAJBDWpAAgEMAAJBDWogAgEMAAJBDWoQAgEMAAJBCWpAAgEIAAJBPWpAAgE8AAJBGWogAgEYAAJA8WoQAgDwAAJBCWogAgEIAAJBUWogAgFQAAJBMWpAAgEwAAJA+WpAAgD4AAJBMWpAAgEwAAJBJWogAgEkAAJBGWogAgEYAAJBPWogAgE8AAJA/WogAgD8AAJBDWpAAgEMAAJBOWqAAgE4AiAD/LwA=');\n",
       "                        });\n",
       "                </script>"
      ],
      "text/plain": [
       "<IPython.core.display.HTML object>"
      ]
     },
     "metadata": {},
     "output_type": "display_data"
    }
   ],
   "source": [
    "print('Some Frames from the video clip:')\n",
    "plt.imshow(img_data[index][0])\n",
    "plt.show()\n",
    "plt.imshow(img_data[index][3])\n",
    "plt.show()\n",
    "plt.imshow(img_data[index][6])\n",
    "plt.show()\n",
    "print('Real game music:')\n",
    "real_music = noteArr_to_stream(midi_data[index])\n",
    "play_stream(real_music)\n",
    "print('Generated game music:')\n",
    "generated_music = noteArr_to_stream(generated_music[0])\n",
    "play_stream(generated_music)"
   ]
  },
  {
   "cell_type": "code",
   "execution_count": null,
   "metadata": {},
   "outputs": [],
   "source": []
  }
 ],
 "metadata": {
  "kernelspec": {
   "display_name": "Python 3",
   "language": "python",
   "name": "python3"
  },
  "language_info": {
   "codemirror_mode": {
    "name": "ipython",
    "version": 3
   },
   "file_extension": ".py",
   "mimetype": "text/x-python",
   "name": "python",
   "nbconvert_exporter": "python",
   "pygments_lexer": "ipython3",
   "version": "3.7.5"
  }
 },
 "nbformat": 4,
 "nbformat_minor": 2
}
